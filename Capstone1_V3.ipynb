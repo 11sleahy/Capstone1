{
 "cells": [
  {
   "cell_type": "code",
   "execution_count": null,
   "metadata": {},
   "outputs": [],
   "source": [
    "#--Wranlging--\n",
    "import pandas as pd\n",
    "import numpy as np\n",
    "import seaborn as sb\n",
    "import sklearn as sk\n",
    "import matplotlib.pyplot as plt\n",
    "import statsmodels.api as sm\n",
    "import statsmodels.formula.api as sm\n",
    "from statsmodels.formula.api import ols\n",
    "from sklearn.linear_model import LinearRegression\n",
    "from scipy.stats import pearsonr"
   ]
  },
  {
   "cell_type": "code",
   "execution_count": 46,
   "metadata": {},
   "outputs": [
    {
     "name": "stderr",
     "output_type": "stream",
     "text": [
      "C:\\Users\\simle\\Anaconda3\\lib\\site-packages\\IPython\\core\\interactiveshell.py:3063: DtypeWarning: Columns (87,89,90) have mixed types.Specify dtype option on import or set low_memory=False.\n",
      "  interactivity=interactivity, compiler=compiler, result=result)\n"
     ]
    }
   ],
   "source": [
    "all_players=pd.read_csv('All_Player_Ratings.csv',encoding='latin1')"
   ]
  },
  {
   "cell_type": "code",
   "execution_count": 47,
   "metadata": {},
   "outputs": [],
   "source": [
    "#--Wrangling--\n",
    "converted_players=pd.read_csv('Converted_Players.csv',encoding='latin1')"
   ]
  },
  {
   "cell_type": "code",
   "execution_count": 48,
   "metadata": {},
   "outputs": [],
   "source": [
    "#--Wrangling--\n",
    "england_players=pd.read_csv('England_Players.csv',encoding='latin1')\n",
    "spain_players=pd.read_csv('Spain_Players.csv',encoding='latin1')\n",
    "italy_players=pd.read_csv('Italy_Players.csv',encoding='latin1')\n",
    "france_players=pd.read_csv('France_Players.csv',encoding='latin1')\n",
    "germany_players=pd.read_csv('Germany_Players.csv',encoding='latin1')"
   ]
  },
  {
   "cell_type": "code",
   "execution_count": 49,
   "metadata": {},
   "outputs": [],
   "source": [
    "#--Wrangling--\n",
    "england_teams=pd.read_csv('England_Team_Stats.csv',encoding='latin1')\n",
    "france_teams=pd.read_csv('France_Team_Stats.csv',encoding='latin1')\n",
    "italy_teams=pd.read_csv('Italy_Team_Stats.csv',encoding='latin1')\n",
    "spain_teams=pd.read_csv('Spain_Team_Stats.csv',encoding='latin1')\n",
    "germany_teams=pd.read_csv('Germany_Team_Stats.csv',encoding='latin1')"
   ]
  },
  {
   "cell_type": "code",
   "execution_count": 50,
   "metadata": {},
   "outputs": [],
   "source": [
    "#--Wrangling--\n",
    "#Assign league weightings to each team in respective league\n",
    "league_rankings={'Spain':1662/1662,'England':1660.4/1662,'Germany':1654.98/1662,'Italy':1634.1/1662,'France':1584.4/1662}\n"
   ]
  },
  {
   "cell_type": "code",
   "execution_count": 51,
   "metadata": {},
   "outputs": [],
   "source": [
    "#--Wrangling--\n",
    "#Apply league weightings to each team' success metric in respective league\n",
    "england_teams['Weighted_Success']=england_teams.goals_scored*league_rankings['England']\n",
    "france_teams['Weighted_Success']=france_teams.goals_scored*league_rankings['France']\n",
    "italy_teams['Weighted_Success']=italy_teams.goals_scored*league_rankings['Italy']\n",
    "germany_teams['Weighted_Success']=germany_teams.goals_scored*league_rankings['Germany']\n",
    "spain_teams['Weighted_Success']=spain_teams.goals_scored*league_rankings['Spain']"
   ]
  },
  {
   "cell_type": "code",
   "execution_count": 53,
   "metadata": {},
   "outputs": [],
   "source": [
    "#--Wrangling--\n",
    "#Extract pertinent offensive skill attributes from players list \n",
    "players=converted_players.iloc[:,[0,1,4,7,18,51,52,53,54,55,56,57,58,59,60,61,62,63,64,65,67,68,69,70,71,73]]"
   ]
  },
  {
   "cell_type": "code",
   "execution_count": 54,
   "metadata": {},
   "outputs": [],
   "source": [
    "#--Wrangling--\n",
    "#Create frame of teams and success metrics\n",
    "teams=pd.concat([england_teams,spain_teams,germany_teams,france_teams,italy_teams],axis=0)\n",
    "teams2=teams.iloc[:,[1,280]]"
   ]
  },
  {
   "cell_type": "code",
   "execution_count": 55,
   "metadata": {},
   "outputs": [
    {
     "name": "stderr",
     "output_type": "stream",
     "text": [
      "C:\\Users\\simle\\Anaconda3\\lib\\site-packages\\ipykernel_launcher.py:5: SettingWithCopyWarning: \n",
      "A value is trying to be set on a copy of a slice from a DataFrame.\n",
      "Try using .loc[row_indexer,col_indexer] = value instead\n",
      "\n",
      "See the caveats in the documentation: https://pandas.pydata.org/pandas-docs/stable/user_guide/indexing.html#returning-a-view-versus-a-copy\n",
      "  \"\"\"\n"
     ]
    }
   ],
   "source": [
    "#Create each player's average of only offensive attributes\n",
    "Offensive_Overall=[]\n",
    "for i in range(0,len(players)):\n",
    "    Offensive_Overall.append(round(np.mean(players.iloc[i,5:27]),1))\n",
    "players['Offensive_Overall']=Offensive_Overall"
   ]
  },
  {
   "cell_type": "code",
   "execution_count": 56,
   "metadata": {},
   "outputs": [],
   "source": [
    "#--Wrangling--\n",
    "#Extract top five offensively inclined players from each team\n",
    "players=players.rename(columns={'Club 2':'Club'})\n",
    "players=players.sort_values(['Club','Offensive_Overall'],ascending=[True,False])\n",
    "players_top_5=players.groupby('Club').apply(lambda i:i.iloc[0:5])\n"
   ]
  },
  {
   "cell_type": "code",
   "execution_count": 57,
   "metadata": {},
   "outputs": [
    {
     "name": "stdout",
     "output_type": "stream",
     "text": [
      "['Position', 'Crossing', 'Finishing', 'HeadingAccuracy', 'ShortPassing', 'Volleys', 'Dribbling', 'Curve', 'FKAccuracy', 'LongPassing', 'BallControl', 'Acceleration', 'SprintSpeed', 'Agility', 'Reactions', 'Balance', 'Jumping', 'Stamina', 'Strength', 'LongShots', 'Aggression', 'Positioning', 'Offensive_Overall']\n"
     ]
    }
   ],
   "source": [
    "#--Wrangling--\n",
    "#Create list of column names to be mutated later, \n",
    "calc_list=list(players_top_5.columns[4:27])\n",
    "print(calc_list)"
   ]
  },
  {
   "cell_type": "code",
   "execution_count": 58,
   "metadata": {},
   "outputs": [],
   "source": [
    "#--Wrangling--\n",
    "#Create player to team index to fill in blank Club values from apply function and merge into players_top_5\n",
    "player_team_index=players.iloc[:,[0,3]]\n",
    "players2=pd.merge(player_team_index,players_top_5,on='ID',how='right')\n",
    "players2=players2.drop(columns='Club_y')\n",
    "players2=players2.rename(columns={'Club_x':'Club'})"
   ]
  },
  {
   "cell_type": "code",
   "execution_count": 59,
   "metadata": {},
   "outputs": [
    {
     "name": "stdout",
     "output_type": "stream",
     "text": [
      "Index(['Acceleration', 'Aggression', 'Agility', 'Balance', 'BallControl',\n",
      "       'Crossing', 'Curve', 'Dribbling', 'FKAccuracy', 'Finishing',\n",
      "       'HeadingAccuracy', 'Jumping', 'LongPassing', 'LongShots',\n",
      "       'Offensive_Overall', 'Positioning', 'Reactions', 'ShortPassing',\n",
      "       'SprintSpeed', 'Stamina', 'Strength', 'Volleys'],\n",
      "      dtype='object')\n"
     ]
    }
   ],
   "source": [
    "#--Wrangling--\n",
    "#Create averages and standard deviation variables of each attribute aggregated by team\n",
    "players_avg=players2.pivot_table(index='Club',values=calc_list,aggfunc=np.mean)\n",
    "players_std=players2.pivot_table(index='Club',values=calc_list,aggfunc=np.std)\n",
    "print(players_avg.columns)"
   ]
  },
  {
   "cell_type": "code",
   "execution_count": 60,
   "metadata": {},
   "outputs": [],
   "source": [
    "#--Wrangling--\n",
    "#rename columns, ONLY RUN ONCE!!!\n",
    "players_avg.columns=[i+\"_avg\" for i in players_avg]\n",
    "players_std.columns=[i+\"_std\" for i in players_std]"
   ]
  },
  {
   "cell_type": "code",
   "execution_count": 61,
   "metadata": {},
   "outputs": [],
   "source": [
    "#--Wrangling--\n",
    "#merge avg and std\n",
    "players_avg.reset_index()\n",
    "players_std.reset_index()\n",
    "player_aggregate=pd.merge(players_avg,players_std,on='Club',how='left')"
   ]
  },
  {
   "cell_type": "code",
   "execution_count": 62,
   "metadata": {},
   "outputs": [
    {
     "name": "stdout",
     "output_type": "stream",
     "text": [
      "         common_name  Weighted_Success\n",
      "0            Arsenal         73.928761\n",
      "1  Tottenham Hotspur         73.928761\n",
      "2    Manchester City        105.897954\n",
      "3     Leicester City         55.946089\n",
      "4         Stoke City         34.966306\n"
     ]
    }
   ],
   "source": [
    "#--Wrangling--\n",
    "#combine skills and success metrics\n",
    "teams3=pd.merge(player_aggregate,teams2,left_on='Club',right_on='common_name',how='left')\n",
    "teams4=teams3.dropna()\n",
    "print(teams2.head())"
   ]
  },
  {
   "cell_type": "code",
   "execution_count": 65,
   "metadata": {},
   "outputs": [
    {
     "name": "stdout",
     "output_type": "stream",
     "text": [
      "[[1.         0.82422812]\n",
      " [0.82422812 1.        ]]\n"
     ]
    },
    {
     "data": {
      "image/png": "[encoded data removed]",
      "text/plain": [
       "<Figure size 432x288 with 1 Axes>"
      ]
     },
     "metadata": {
      "needs_background": "light"
     },
     "output_type": "display_data"
    }
   ],
   "source": [
    "#--Storytelling--\n",
    "#Scatter chart skill level vs. success\n",
    "plt.scatter(teams4.Offensive_Overall_avg,teams4.Weighted_Success)\n",
    "plt.xlabel('Skill Level')\n",
    "plt.ylabel('Success')\n",
    "print(np.corrcoef(teams4.Offensive_Overall_avg,teams4.Weighted_Success))"
   ]
  },
  {
   "cell_type": "code",
   "execution_count": 70,
   "metadata": {},
   "outputs": [
    {
     "name": "stdout",
     "output_type": "stream",
     "text": [
      "                            OLS Regression Results                            \n",
      "==============================================================================\n",
      "Dep. Variable:       Weighted_Success   R-squared:                       0.679\n",
      "Model:                            OLS   Adj. R-squared:                  0.675\n",
      "Method:                 Least Squares   F-statistic:                     150.4\n",
      "Date:                Wed, 17 Jun 2020   Prob (F-statistic):           3.31e-19\n",
      "Time:                        11:34:37   Log-Likelihood:                -275.89\n",
      "No. Observations:                  73   AIC:                             555.8\n",
      "Df Residuals:                      71   BIC:                             560.4\n",
      "Df Model:                           1                                         \n",
      "Covariance Type:            nonrobust                                         \n",
      "=========================================================================================\n",
      "                            coef    std err          t      P>|t|      [0.025      0.975]\n",
      "-----------------------------------------------------------------------------------------\n",
      "Intercept              -330.3609     31.237    -10.576      0.000    -392.646    -268.076\n",
      "Offensive_Overall_avg     5.2271      0.426     12.265      0.000       4.377       6.077\n",
      "==============================================================================\n",
      "Omnibus:                        1.079   Durbin-Watson:                   2.056\n",
      "Prob(Omnibus):                  0.583   Jarque-Bera (JB):                1.157\n",
      "Skew:                           0.237   Prob(JB):                        0.561\n",
      "Kurtosis:                       2.604   Cond. No.                     1.82e+03\n",
      "==============================================================================\n",
      "\n",
      "Warnings:\n",
      "[1] Standard Errors assume that the covariance matrix of the errors is correctly specified.\n",
      "[2] The condition number is large, 1.82e+03. This might indicate that there are\n",
      "strong multicollinearity or other numerical problems.\n"
     ]
    }
   ],
   "source": [
    "#--Machine Learning--\n",
    "#Model summary of expected success dependant upon offensive overall\n",
    "mod=ols('Weighted_Success~Offensive_Overall_avg',teams4).fit()\n",
    "print(mod.summary())"
   ]
  },
  {
   "cell_type": "code",
   "execution_count": 143,
   "metadata": {},
   "outputs": [
    {
     "name": "stdout",
     "output_type": "stream",
     "text": [
      "Index(['Acceleration_avg', 'Aggression_avg', 'Agility_avg', 'Balance_avg',\n",
      "       'BallControl_avg', 'Crossing_avg', 'Curve_avg', 'Dribbling_avg',\n",
      "       'FKAccuracy_avg', 'Finishing_avg', 'HeadingAccuracy_avg', 'Jumping_avg',\n",
      "       'LongPassing_avg', 'LongShots_avg', 'Offensive_Overall_avg',\n",
      "       'Positioning_avg', 'Reactions_avg', 'ShortPassing_avg',\n",
      "       'SprintSpeed_avg', 'Stamina_avg', 'Strength_avg', 'Volleys_avg',\n",
      "       'Acceleration_std', 'Aggression_std', 'Agility_std', 'Balance_std',\n",
      "       'BallControl_std', 'Crossing_std', 'Curve_std', 'Dribbling_std',\n",
      "       'FKAccuracy_std', 'Finishing_std', 'HeadingAccuracy_std', 'Jumping_std',\n",
      "       'LongPassing_std', 'LongShots_std', 'Offensive_Overall_std',\n",
      "       'Positioning_std', 'Reactions_std', 'ShortPassing_std',\n",
      "       'SprintSpeed_std', 'Stamina_std', 'Strength_std', 'Volleys_std',\n",
      "       'common_name', 'Weighted_Success', 'predicted_goals_scored',\n",
      "       'residual'],\n",
      "      dtype='object')\n"
     ]
    },
    {
     "name": "stderr",
     "output_type": "stream",
     "text": [
      "C:\\Users\\simle\\Anaconda3\\lib\\site-packages\\ipykernel_launcher.py:2: SettingWithCopyWarning: \n",
      "A value is trying to be set on a copy of a slice from a DataFrame.\n",
      "Try using .loc[row_indexer,col_indexer] = value instead\n",
      "\n",
      "See the caveats in the documentation: https://pandas.pydata.org/pandas-docs/stable/user_guide/indexing.html#returning-a-view-versus-a-copy\n",
      "  \n",
      "C:\\Users\\simle\\Anaconda3\\lib\\site-packages\\ipykernel_launcher.py:3: SettingWithCopyWarning: \n",
      "A value is trying to be set on a copy of a slice from a DataFrame.\n",
      "Try using .loc[row_indexer,col_indexer] = value instead\n",
      "\n",
      "See the caveats in the documentation: https://pandas.pydata.org/pandas-docs/stable/user_guide/indexing.html#returning-a-view-versus-a-copy\n",
      "  This is separate from the ipykernel package so we can avoid doing imports until\n"
     ]
    }
   ],
   "source": [
    "#--Machine Learning/Wrangling--\n",
    "Predict=teams4.Offensive_Overall_avg*5.227-330.3609\n",
    "teams4['predicted_goals_scored']=Predict\n",
    "teams4['residual']=teams4.Weighted_Success-teams4.predicted_goals_scored\n",
    "print(teams4.columns)"
   ]
  },
  {
   "cell_type": "code",
   "execution_count": 263,
   "metadata": {},
   "outputs": [
    {
     "name": "stdout",
     "output_type": "stream",
     "text": [
      "      coef            Attribute  Inverse_p_value\n",
      "1  -0.8992     Acceleration_avg            0.701\n",
      "2  -0.4318       Aggression_avg            0.867\n",
      "3   0.7230          Agility_avg            0.692\n",
      "4  -0.0916          Balance_avg            0.162\n",
      "5   0.7177      BallControl_avg            0.348\n",
      "6  -0.7163         Crossing_avg            0.862\n",
      "7   0.0106            Curve_avg            0.017\n",
      "8   2.2285        Dribbling_avg            0.916\n",
      "9   0.2619       FKAccuracy_avg            0.492\n",
      "10  0.3318        Finishing_avg            0.495\n",
      "11  0.8421  HeadingAccuracy_avg            0.979\n",
      "12  0.0359          Jumping_avg            0.079\n",
      "13 -0.0332      LongPassing_avg            0.048\n",
      "14 -0.1703        LongShots_avg            0.234\n",
      "15 -0.3581      Positioning_avg            0.342\n",
      "16  1.0468        Reactions_avg            0.765\n",
      "17 -0.1689     ShortPassing_avg            0.114\n",
      "18  0.4013      SprintSpeed_avg            0.436\n",
      "19  0.2112          Stamina_avg            0.399\n",
      "20  0.0589         Strength_avg            0.122\n"
     ]
    },
    {
     "name": "stderr",
     "output_type": "stream",
     "text": [
      "C:\\Users\\simle\\Anaconda3\\lib\\site-packages\\ipykernel_launcher.py:7: SettingWithCopyWarning: \n",
      "A value is trying to be set on a copy of a slice from a DataFrame.\n",
      "Try using .loc[row_indexer,col_indexer] = value instead\n",
      "\n",
      "See the caveats in the documentation: https://pandas.pydata.org/pandas-docs/stable/user_guide/indexing.html#returning-a-view-versus-a-copy\n",
      "  import sys\n",
      "C:\\Users\\simle\\Anaconda3\\lib\\site-packages\\ipykernel_launcher.py:9: SettingWithCopyWarning: \n",
      "A value is trying to be set on a copy of a slice from a DataFrame.\n",
      "Try using .loc[row_indexer,col_indexer] = value instead\n",
      "\n",
      "See the caveats in the documentation: https://pandas.pydata.org/pandas-docs/stable/user_guide/indexing.html#returning-a-view-versus-a-copy\n",
      "  if __name__ == '__main__':\n"
     ]
    }
   ],
   "source": [
    "#--Wrangling/Machine Learning--\n",
    "#Create dataframe of attributes, coefficients, and p_values\n",
    "ht=pd.read_html(team_mod.summary().tables[1].as_html(),header=0,index_col=0)[0]\n",
    "a=pd.DataFrame(ht)\n",
    "coef_pvalue_frame=a.iloc[:,[0,3]]\n",
    "cpv2=coef_pvalue_frame.reset_index(drop=True)\n",
    "cpv3=cpv2.iloc[1:21,:]\n",
    "cpv3['Attribute']=x_vars.columns\n",
    "cpv4=cpv3\n",
    "cpv4['Inverse_p_value']=1-cpv4.iloc[:,1]\n",
    "cpv5=cpv4.drop(columns='P>|t|')\n",
    "print(cpv5)"
   ]
  },
  {
   "cell_type": "markdown",
   "metadata": {},
   "source": [
    "#Scratch Work\n",
    "#bar chart of coefficients and p-value\n",
    "coef_bar=list(cpv5.iloc[:,0])\n",
    "Inverse_p_value_bar=list(cpv5.iloc[:,2])\n",
    "Attribute_label=list(cpv5.iloc[:,1])\n",
    "barWidth=.25\n",
    "x1=np.arange(len(coef_bar))\n",
    "x2=[i+barWidth for i in x1]\n",
    "ax2=twi\n",
    "plt.bar(x1,coef_bar,width=barWidth)\n",
    "plt.bar(x2,Inverse_p_value_bar,width=barWidth)\n",
    "plt.xticks(Attribute_label)\n",
    "plt.show()"
   ]
  },
  {
   "cell_type": "code",
   "execution_count": 304,
   "metadata": {},
   "outputs": [
    {
     "data": {
      "image/png": "[encoded data removed]",
      "text/plain": [
       "<Figure size 432x288 with 2 Axes>"
      ]
     },
     "metadata": {
      "needs_background": "light"
     },
     "output_type": "display_data"
    }
   ],
   "source": [
    "#--Storytelling--\n",
    "#bar chart of coefficients and p-value, sorted by inverse p-value, labeled by skill attribute \n",
    "cpv6=cpv5.sort_values(by='Inverse_p_value',ascending=False)\n",
    "Attribute_label=list(cpv6.iloc[:,1])\n",
    "fig=plt.figure()\n",
    "ax=fig.add_subplot(111)\n",
    "ax2=ax.twinx()\n",
    "width=.4\n",
    "cpv6.coef.plot(kind='bar',color='red',ax=ax,width=width,position=0)\n",
    "cpv6.Inverse_p_value.plot(kind='bar',color='blue',ax=ax2,width=width,position=1)\n",
    "ax.set_ylabel('Coefficient')\n",
    "ax2.set_ylabel('Inverse P-Value')\n",
    "plt.xticks(np.arange(len(Attribute_label)),Attribute_label)\n",
    "plt.legend()\n",
    "plt.show()"
   ]
  },
  {
   "cell_type": "code",
   "execution_count": 315,
   "metadata": {},
   "outputs": [
    {
     "name": "stdout",
     "output_type": "stream",
     "text": [
      "                            OLS Regression Results                            \n",
      "==============================================================================\n",
      "Dep. Variable:                y_var_r   R-squared:                       0.382\n",
      "Model:                            OLS   Adj. R-squared:                  0.145\n",
      "Method:                 Least Squares   F-statistic:                     1.609\n",
      "Date:                Sat, 20 Jun 2020   Prob (F-statistic):             0.0863\n",
      "Time:                        11:02:04   Log-Likelihood:                -258.31\n",
      "No. Observations:                  73   AIC:                             558.6\n",
      "Df Residuals:                      52   BIC:                             606.7\n",
      "Df Model:                          20                                         \n",
      "Covariance Type:            nonrobust                                         \n",
      "================================================================================\n",
      "                   coef    std err          t      P>|t|      [0.025      0.975]\n",
      "--------------------------------------------------------------------------------\n",
      "Intercept       79.7990     43.971      1.815      0.075      -8.434     168.032\n",
      "x_vars_r[0]     -1.1867      0.878     -1.351      0.182      -2.949       0.575\n",
      "x_vars_r[1]     -0.6943      0.290     -2.395      0.020      -1.276      -0.113\n",
      "x_vars_r[2]      0.3615      0.720      0.502      0.617      -1.082       1.805\n",
      "x_vars_r[3]     -0.2776      0.458     -0.606      0.547      -1.196       0.641\n",
      "x_vars_r[4]      0.5022      1.619      0.310      0.758      -2.747       3.752\n",
      "x_vars_r[5]     -0.9652      0.487     -1.984      0.053      -1.942       0.011\n",
      "x_vars_r[6]     -0.3172      0.516     -0.614      0.542      -1.354       0.719\n",
      "x_vars_r[7]      2.0556      1.294      1.588      0.118      -0.542       4.653\n",
      "x_vars_r[8]      0.0505      0.403      0.125      0.901      -0.758       0.859\n",
      "x_vars_r[9]      0.0176      0.506      0.035      0.972      -0.998       1.033\n",
      "x_vars_r[10]     0.6077      0.361      1.682      0.099      -0.117       1.333\n",
      "x_vars_r[11]    -0.2632      0.367     -0.717      0.477      -1.000       0.474\n",
      "x_vars_r[12]    -0.3079      0.565     -0.545      0.588      -1.441       0.826\n",
      "x_vars_r[13]    -0.5235      0.583     -0.898      0.373      -1.693       0.646\n",
      "x_vars_r[14]    -0.6596      0.824     -0.800      0.427      -2.313       0.994\n",
      "x_vars_r[15]     0.7158      0.893      0.802      0.426      -1.076       2.507\n",
      "x_vars_r[16]    -0.4105      1.201     -0.342      0.734      -2.820       1.999\n",
      "x_vars_r[17]     0.2223      0.708      0.314      0.755      -1.199       1.643\n",
      "x_vars_r[18]     0.0246      0.411      0.060      0.952      -0.800       0.849\n",
      "x_vars_r[19]    -0.2124      0.391     -0.543      0.590      -0.997       0.573\n",
      "==============================================================================\n",
      "Omnibus:                        0.174   Durbin-Watson:                   1.974\n",
      "Prob(Omnibus):                  0.917   Jarque-Bera (JB):                0.016\n",
      "Skew:                          -0.035   Prob(JB):                        0.992\n",
      "Kurtosis:                       3.016   Cond. No.                     1.25e+04\n",
      "==============================================================================\n",
      "\n",
      "Warnings:\n",
      "[1] Standard Errors assume that the covariance matrix of the errors is correctly specified.\n",
      "[2] The condition number is large, 1.25e+04. This might indicate that there are\n",
      "strong multicollinearity or other numerical problems.\n"
     ]
    }
   ],
   "source": [
    "#--Machine Learning--\n",
    "#Build model of individual each individual attribute's contribution to success\n",
    "mrf_pred=teams4.iloc[:,[0,1,2,3,4,5,6,7,8,9,10,11,12,13,15,16,17,18,19,20,21,45]]\n",
    "x_vars_p=mrf.iloc[:,0:20]\n",
    "y_var_p=mrf_pred['Weighted_Success']\n",
    "team_mod_pred=sm.ols('y_var_r~x_vars_r',mrf_pred).fit()\n",
    "print(team_mod_pred.summary())"
   ]
  },
  {
   "cell_type": "code",
   "execution_count": 150,
   "metadata": {},
   "outputs": [
    {
     "name": "stdout",
     "output_type": "stream",
     "text": [
      "Index(['Agility_avg', 'Dribbling_avg', 'HeadingAccuracy_avg'], dtype='object')\n"
     ]
    }
   ],
   "source": [
    "print(x_vars.columns[[2,7,10]])\n",
    "#A multivariate linear regression model on the impact of various offensive metrics as independent variables shows\n",
    "#a weak relationship between individual attributes and overall offensive success"
   ]
  },
  {
   "cell_type": "code",
   "execution_count": 153,
   "metadata": {},
   "outputs": [
    {
     "name": "stdout",
     "output_type": "stream",
     "text": [
      "Index(['Acceleration_avg', 'Aggression_avg', 'Agility_avg', 'Balance_avg',\n",
      "       'BallControl_avg', 'Crossing_avg', 'Curve_avg', 'Dribbling_avg',\n",
      "       'FKAccuracy_avg', 'Finishing_avg', 'HeadingAccuracy_avg', 'Jumping_avg',\n",
      "       'LongPassing_avg', 'LongShots_avg', 'Offensive_Overall_avg',\n",
      "       'Positioning_avg', 'Reactions_avg', 'ShortPassing_avg',\n",
      "       'SprintSpeed_avg', 'Stamina_avg', 'Strength_avg', 'Volleys_avg',\n",
      "       'Acceleration_std', 'Aggression_std', 'Agility_std', 'Balance_std',\n",
      "       'BallControl_std', 'Crossing_std', 'Curve_std', 'Dribbling_std',\n",
      "       'FKAccuracy_std', 'Finishing_std', 'HeadingAccuracy_std', 'Jumping_std',\n",
      "       'LongPassing_std', 'LongShots_std', 'Offensive_Overall_std',\n",
      "       'Positioning_std', 'Reactions_std', 'ShortPassing_std',\n",
      "       'SprintSpeed_std', 'Stamina_std', 'Strength_std', 'Volleys_std',\n",
      "       'residual'],\n",
      "      dtype='object')\n"
     ]
    }
   ],
   "source": [
    "#--Wrangling--\n",
    "#st.dev numeric frame\n",
    "teams4_std=teams4\n",
    "teams5_std=teams4_std.drop(columns=['common_name','Weighted_Success','predicted_goals_scored'])\n",
    "print(teams5_std.columns)"
   ]
  },
  {
   "cell_type": "code",
   "execution_count": 154,
   "metadata": {},
   "outputs": [
    {
     "name": "stderr",
     "output_type": "stream",
     "text": [
      "C:\\Users\\simle\\Anaconda3\\lib\\site-packages\\ipykernel_launcher.py:6: SettingWithCopyWarning: \n",
      "A value is trying to be set on a copy of a slice from a DataFrame.\n",
      "Try using .loc[row_indexer,col_indexer] = value instead\n",
      "\n",
      "See the caveats in the documentation: https://pandas.pydata.org/pandas-docs/stable/user_guide/indexing.html#returning-a-view-versus-a-copy\n",
      "  \n"
     ]
    }
   ],
   "source": [
    "#--Wrangling--\n",
    "#add average of each teams average offensive attributes\n",
    "teams6_avg_adj=teams5_std.iloc[:,0:22]\n",
    "tm_avg=[]\n",
    "for i in range(0,len(teams6_avg_adj)):\n",
    "    tm_avg.append(np.mean(teams6_avg_adj.iloc[i,:]))\n",
    "teams6_avg_adj['Team_Average']=tm_avg\n",
    "avg_delta=[]"
   ]
  },
  {
   "cell_type": "code",
   "execution_count": 155,
   "metadata": {},
   "outputs": [],
   "source": [
    "#--Wrangling--\n",
    "#create dataframe of each attribute delta from average overall\n",
    "avg_delta=[]\n",
    "for i in range(0,21):\n",
    "    avg_delta.append(teams6_avg_adj.iloc[:,i]-teams6_avg_adj.iloc[:,22])\n",
    "a=pd.DataFrame(avg_delta)\n",
    "avg_delta2=a.transpose()\n",
    "avg_delta2.columns=teams6_avg_adj.columns[0:21]"
   ]
  },
  {
   "cell_type": "code",
   "execution_count": 156,
   "metadata": {},
   "outputs": [
    {
     "name": "stdout",
     "output_type": "stream",
     "text": [
      "   Acceleration_avg  Aggression_avg  Agility_avg  Balance_avg  \\\n",
      "0          9.123636        1.923636     8.523636    12.923636   \n",
      "1         13.018182      -15.781818     9.218182     6.218182   \n",
      "2          2.714545       -4.885455     5.514545    -1.285455   \n",
      "3          2.570909      -15.629091     3.770909     0.570909   \n",
      "4          4.876364      -10.923636     4.876364    -6.123636   \n",
      "\n",
      "   BallControl_avg  Crossing_avg  Curve_avg  Dribbling_avg  FKAccuracy_avg  \\\n",
      "0         6.723636     -7.876364  -4.876364       4.723636       -8.476364   \n",
      "1         3.018182     -5.381818  -8.381818       3.018182       -3.781818   \n",
      "2         6.114545      0.714545  -2.085455       5.914545       -1.285455   \n",
      "3         8.370909     -1.029091   1.970909       6.370909       -5.829091   \n",
      "4         8.076364      2.876364   1.876364       9.076364        2.276364   \n",
      "\n",
      "   Finishing_avg  ...  LongPassing_std  LongShots_std  Offensive_Overall_std  \\\n",
      "0      -0.276364  ...        14.380542       6.519202               1.125611   \n",
      "1       0.818182  ...        15.254508       7.713624               2.169101   \n",
      "2      -3.285455  ...         6.877500      10.139033               2.021633   \n",
      "3       3.170909  ...         9.934787       2.280351               2.123205   \n",
      "4      -2.723636  ...         2.683282       5.263079               2.856046   \n",
      "\n",
      "   Positioning_std  Reactions_std  ShortPassing_std  SprintSpeed_std  \\\n",
      "0        10.908712       2.449490          5.319774        11.414903   \n",
      "1         3.240370       6.648308          6.534524         9.273618   \n",
      "2         5.319774       3.768289          2.280351         9.407444   \n",
      "3         3.162278       3.193744          4.636809        10.977249   \n",
      "4         6.426508       5.941380          5.385165        10.237187   \n",
      "\n",
      "   Stamina_std  Strength_std  Volleys_std  \n",
      "0    12.641202     14.404860    14.741099  \n",
      "1     6.685806      6.442049     7.245688  \n",
      "2     3.162278      8.288546    10.334409  \n",
      "3     7.496666      7.778175     2.701851  \n",
      "4     7.085196     13.160547     8.677557  \n",
      "\n",
      "[5 rows x 43 columns]\n"
     ]
    }
   ],
   "source": [
    "#--Wrangling--\n",
    "#add st.dev to average delta frame\n",
    "std_frame=teams5_std.iloc[:,22:44]\n",
    "delta_frame=pd.concat([avg_delta2,std_frame],axis=1)\n",
    "print(delta_frame.head())"
   ]
  },
  {
   "cell_type": "code",
   "execution_count": 157,
   "metadata": {},
   "outputs": [],
   "source": [
    "#--Wrangling--\n",
    "#add residual to delta frame\n",
    "delta_frame['resid']=teams5_std.residual"
   ]
  },
  {
   "cell_type": "code",
   "execution_count": 159,
   "metadata": {},
   "outputs": [
    {
     "name": "stdout",
     "output_type": "stream",
     "text": [
      "[-0.09197660359429463, -0.2422022484881265, -0.0708197187782886, -0.19119044996793158, 0.25962449584490743, -0.30521192730240015, -0.029356064049811843, 0.22445253042092245, 0.01450883804685699, 0.31328242652582916, 0.19246400565589245, -0.08290104666032207, -0.12441981530252641, 0.12155301547420533, -0.06877734014728337, 0.26692895631300617, 0.18918492432713024, 0.1110552430374331, -0.02065989080999394, -0.051902932746056424, 0.017714912841421692, -0.03536690717654462, 0.13731898523918146, -0.17395993020252914, 0.04419368249736465, -0.09259546682492768, 0.12748948666848536, -0.1334599389015652, 0.0943779900060842, 0.004462599364134734, 0.09898783615723412, 0.09879296866971038, -0.03291303148058217, 0.1679568814621995, -0.06204664473393538, -0.005906697568455625, 0.1505048106991436, 0.2120315903708328, 0.0700042618744299, 0.051590265395103085, 0.0008808906702084257, -0.00300244721526019, 0.22832966865112572]\n"
     ]
    },
    {
     "data": {
      "text/plain": [
       "<matplotlib.collections.PathCollection at 0x1674e545708>"
      ]
     },
     "execution_count": 159,
     "metadata": {},
     "output_type": "execute_result"
    },
    {
     "data": {
      "image/png": "[encoded data removed]",
      "text/plain": [
       "<Figure size 432x288 with 1 Axes>"
      ]
     },
     "metadata": {
      "needs_background": "light"
     },
     "output_type": "display_data"
    }
   ],
   "source": [
    "#--Storytelling/Wrangling--\n",
    "correl=[]\n",
    "for i in range(0,len(delta_frame.columns)-1):\n",
    "    correl.append(pearsonr(delta_frame.iloc[:,i],delta_frame.iloc[:,43])[0])\n",
    "print(correl)\n",
    "plt.scatter(delta_frame.iloc[:,1],delta_frame.iloc[:,43])"
   ]
  },
  {
   "cell_type": "code",
   "execution_count": 160,
   "metadata": {},
   "outputs": [
    {
     "name": "stdout",
     "output_type": "stream",
     "text": [
      "[('Acceleration_avg', -0.09197660359429463), ('Aggression_avg', -0.2422022484881265), ('Agility_avg', -0.0708197187782886), ('Balance_avg', -0.19119044996793158), ('BallControl_avg', 0.25962449584490743), ('Crossing_avg', -0.30521192730240015), ('Curve_avg', -0.029356064049811843), ('Dribbling_avg', 0.22445253042092245), ('FKAccuracy_avg', 0.01450883804685699), ('Finishing_avg', 0.31328242652582916), ('HeadingAccuracy_avg', 0.19246400565589245), ('Jumping_avg', -0.08290104666032207), ('LongPassing_avg', -0.12441981530252641), ('LongShots_avg', 0.12155301547420533), ('Offensive_Overall_avg', -0.06877734014728337), ('Positioning_avg', 0.26692895631300617), ('Reactions_avg', 0.18918492432713024), ('ShortPassing_avg', 0.1110552430374331), ('SprintSpeed_avg', -0.02065989080999394), ('Stamina_avg', -0.051902932746056424), ('Strength_avg', 0.017714912841421692), ('Acceleration_std', -0.03536690717654462), ('Aggression_std', 0.13731898523918146), ('Agility_std', -0.17395993020252914), ('Balance_std', 0.04419368249736465), ('BallControl_std', -0.09259546682492768), ('Crossing_std', 0.12748948666848536), ('Curve_std', -0.1334599389015652), ('Dribbling_std', 0.0943779900060842), ('FKAccuracy_std', 0.004462599364134734), ('Finishing_std', 0.09898783615723412), ('HeadingAccuracy_std', 0.09879296866971038), ('Jumping_std', -0.03291303148058217), ('LongPassing_std', 0.1679568814621995), ('LongShots_std', -0.06204664473393538), ('Offensive_Overall_std', -0.005906697568455625), ('Positioning_std', 0.1505048106991436), ('Reactions_std', 0.2120315903708328), ('ShortPassing_std', 0.0700042618744299), ('SprintSpeed_std', 0.051590265395103085), ('Stamina_std', 0.0008808906702084257), ('Strength_std', -0.00300244721526019), ('Volleys_std', 0.22832966865112572)]\n"
     ]
    }
   ],
   "source": [
    "#--Wrangling/Storytelling--\n",
    "tup1=zip(delta_frame.columns,correl)\n",
    "print(list(tup1))"
   ]
  },
  {
   "cell_type": "code",
   "execution_count": 280,
   "metadata": {},
   "outputs": [
    {
     "name": "stdout",
     "output_type": "stream",
     "text": [
      "                        0            1\n",
      "0        Acceleration_avg   -0.0919766\n",
      "1          Aggression_avg    -0.242202\n",
      "2             Agility_avg   -0.0708197\n",
      "3             Balance_avg     -0.19119\n",
      "4         BallControl_avg     0.259624\n",
      "5            Crossing_avg    -0.305212\n",
      "6               Curve_avg   -0.0293561\n",
      "7           Dribbling_avg     0.224453\n",
      "8          FKAccuracy_avg    0.0145088\n",
      "9           Finishing_avg     0.313282\n",
      "10    HeadingAccuracy_avg     0.192464\n",
      "11            Jumping_avg    -0.082901\n",
      "12        LongPassing_avg     -0.12442\n",
      "13          LongShots_avg     0.121553\n",
      "14  Offensive_Overall_avg   -0.0687773\n",
      "15        Positioning_avg     0.266929\n",
      "16          Reactions_avg     0.189185\n",
      "17       ShortPassing_avg     0.111055\n",
      "18        SprintSpeed_avg   -0.0206599\n",
      "19            Stamina_avg   -0.0519029\n",
      "20           Strength_avg    0.0177149\n",
      "21       Acceleration_std   -0.0353669\n",
      "22         Aggression_std     0.137319\n",
      "23            Agility_std     -0.17396\n",
      "24            Balance_std    0.0441937\n",
      "25        BallControl_std   -0.0925955\n",
      "26           Crossing_std     0.127489\n",
      "27              Curve_std     -0.13346\n",
      "28          Dribbling_std     0.094378\n",
      "29         FKAccuracy_std    0.0044626\n",
      "30          Finishing_std    0.0989878\n",
      "31    HeadingAccuracy_std     0.098793\n",
      "32            Jumping_std    -0.032913\n",
      "33        LongPassing_std     0.167957\n",
      "34          LongShots_std   -0.0620466\n",
      "35  Offensive_Overall_std   -0.0059067\n",
      "36        Positioning_std     0.150505\n",
      "37          Reactions_std     0.212032\n",
      "38       ShortPassing_std    0.0700043\n",
      "39        SprintSpeed_std    0.0515903\n",
      "40            Stamina_std  0.000880891\n",
      "41           Strength_std  -0.00300245\n",
      "42            Volleys_std      0.22833\n"
     ]
    }
   ],
   "source": [
    "#--Wrangling--\n",
    "#set threshold of significance, build list of attributes and correlations.\n",
    "thresh_set=[.19,-.19]\n",
    "attr=delta_frame.columns.drop(delta_frame.columns[-1])\n",
    "delta_frame2=pd.DataFrame([list(attr),correl])\n",
    "corr_frame=pd.DataFrame.transpose(delta_frame2)\n",
    "corr_frame2=corr_frame.sort_values(by=1,ascending=False)\n",
    "attribute_selection=corr_frame2.loc[(corr_frame2[1]>thresh_set[0])|(corr_frame2[1]<thresh_set[1])]\n",
    "print(corr_frame)"
   ]
  },
  {
   "cell_type": "code",
   "execution_count": 281,
   "metadata": {},
   "outputs": [
    {
     "data": {
      "image/png": "[encoded data removed]",
      "text/plain": [
       "<Figure size 720x360 with 1 Axes>"
      ]
     },
     "metadata": {
      "needs_background": "light"
     },
     "output_type": "display_data"
    }
   ],
   "source": [
    "#--Storytelling--\n",
    "#Visualization of all attributes (avg and std) plotted in bar chart\n",
    "attribute_list1=list(corr_frame.loc[:,0])\n",
    "y_pos1=np.arange(len(attribute_list1))\n",
    "atb1=list(corr_frame2.loc[:,1])\n",
    "plt.figure(figsize=(10,5))\n",
    "plt.bar(y_pos1,atb1)\n",
    "plt.show()"
   ]
  },
  {
   "cell_type": "code",
   "execution_count": 282,
   "metadata": {},
   "outputs": [
    {
     "data": {
      "image/png": "[encoded data removed]",
      "text/plain": [
       "<Figure size 1080x360 with 1 Axes>"
      ]
     },
     "metadata": {
      "needs_background": "light"
     },
     "output_type": "display_data"
    }
   ],
   "source": [
    "#--Storytelling--\n",
    "#bar chart of correlations of that exceed the set threshold in either direction\n",
    "attribute_list2=list(attribute_selection.loc[:,0])\n",
    "y_pos=np.arange(len(attribute_list2))\n",
    "atb=list(attribute_selection.loc[:,1])\n",
    "plt.figure(figsize=(15,5))\n",
    "plt.barh(y_pos,atb)\n",
    "plt.yticks(y_pos,attribute_list2)\n",
    "plt.show()"
   ]
  },
  {
   "cell_type": "code",
   "execution_count": 198,
   "metadata": {},
   "outputs": [
    {
     "name": "stdout",
     "output_type": "stream",
     "text": [
      "Index(['Aggression_avg', 'Agility_avg'], dtype='object')\n"
     ]
    }
   ],
   "source": [
    "#The above tuple and chart shows pearson correlation of x(the delta of each team's top five player average of each offensive\n",
    "#attribute and the average of all attributes, indicating how much better or worse that team is at that attribute compared\n",
    "#to it's overall) and y(the residual of expected vs. actual offensive success as determined by goals). The relationship is\n",
    "#meant to assess the relationship between skillsets and success agnostic of the team's level of strength. The attributes\n",
    "#that stand out as having a particularily strong impact on success are ball controll, dribbling, finishing, heading\n",
    "#accuracy, positioning, and a wide range of reactions and vollying ability. The skills that\n",
    "#are \"overrated\" are aggression, balance, and crossing."
   ]
  },
  {
   "cell_type": "markdown",
   "metadata": {},
   "source": []
  }
 ],
 "metadata": {
  "kernelspec": {
   "display_name": "Python 3",
   "language": "python",
   "name": "python3"
  },
  "language_info": {
   "codemirror_mode": {
    "name": "ipython",
    "version": 3
   },
   "file_extension": ".py",
   "mimetype": "text/x-python",
   "name": "python",
   "nbconvert_exporter": "python",
   "pygments_lexer": "ipython3",
   "version": "3.7.6"
  }
 },
 "nbformat": 4,
 "nbformat_minor": 4
}
